{
 "cells": [
  {
   "cell_type": "code",
   "execution_count": 11,
   "id": "8e6aa55a",
   "metadata": {},
   "outputs": [],
   "source": [
    "#Import relevant libraries\n",
    "import numpy as np\n",
    "import matplotlib.pyplot as plt\n",
    "import pandas as pd\n",
    "import pandas_datareader as web\n",
    "import datetime as dt\n",
    "\n",
    "from sklearn.preprocessing import MinMaxScaler\n",
    "from tensorflow.keras.layers import Dense, Dropout, LSTM\n",
    "from tensorflow.keras.models import Sequential"
   ]
  },
  {
   "cell_type": "code",
   "execution_count": 4,
   "id": "21cbde08",
   "metadata": {},
   "outputs": [],
   "source": [
    "#define the ticker symbol of crypto and comparison currency\n",
    "crypto_currency = 'LINK'\n",
    "against_currency = 'USD' #We need a fiat currency to compare the cryptocurrency to. Let's use the US Dollar. "
   ]
  },
  {
   "cell_type": "code",
   "execution_count": 5,
   "id": "a4f8a859",
   "metadata": {},
   "outputs": [],
   "source": [
    "#define the start and end date of the data\n",
    "start = dt.datetime(2016,1,1)\n",
    "end = dt.datetime.now()"
   ]
  },
  {
   "cell_type": "code",
   "execution_count": 9,
   "id": "6b3c0b48",
   "metadata": {},
   "outputs": [
    {
     "name": "stdout",
     "output_type": "stream",
     "text": [
      "                High       Low      Open     Close   Volume  Adj Close\n",
      "Date                                                                  \n",
      "2017-11-09  0.248233  0.195411  0.216713  0.223969  3347920   0.223969\n",
      "2017-11-10  0.231280  0.180161  0.224700  0.187602  2125460   0.187602\n",
      "2017-11-11  0.197687  0.166026  0.186398  0.179770  2238980   0.179770\n",
      "2017-11-12  0.198376  0.145948  0.179667  0.170898  5455200   0.170898\n",
      "2017-11-13  0.205014  0.168743  0.169117  0.183071  2992650   0.183071\n"
     ]
    }
   ],
   "source": [
    "#load our cryptocurrency data from the Yahoo finance API in a specified time frame, and print the data\n",
    "data = web.DataReader(f'{crypto_currency}-{against_currency}', 'yahoo', start, end)\n",
    "print(data.head())"
   ]
  },
  {
   "cell_type": "code",
   "execution_count": 10,
   "id": "b69c086b",
   "metadata": {},
   "outputs": [],
   "source": [
    "#prepare Data\n",
    "scaler = MinMaxScaler(feature_range=(0,1)) #squeezing all values in the boundaries of 0 - 1\n",
    "scaled_data = scaler.fit_transform(data['Close'].values.reshape(-1,1)) #fitting the data to the scaler"
   ]
  },
  {
   "cell_type": "code",
   "execution_count": 13,
   "id": "f83798e5",
   "metadata": {},
   "outputs": [],
   "source": [
    "#how many days we want to use to predict the next day\n",
    "prediction_days = 60 "
   ]
  },
  {
   "cell_type": "code",
   "execution_count": 14,
   "id": "b62abb53",
   "metadata": {},
   "outputs": [],
   "source": [
    "#prepare training data (x and y)\n",
    "x_train, y_train = [], []\n",
    "\n",
    "for x in range(prediction_days, len(scaled_data)):\n",
    "    x_train.append(scaled_data[x-prediction_days:x, 0])\n",
    "    y_train.append(scaled_data[x, 0])\n",
    "    \n",
    "x_train, y_train = np.array(x_train), np.array(y_train) #turn our data into numpy arrays\n",
    "x_train = np.reshape(x_train, (x_train.shape[0], x_train.shape[1], 1)) #add another dimension to our array"
   ]
  },
  {
   "cell_type": "code",
   "execution_count": 18,
   "id": "5e00b254",
   "metadata": {},
   "outputs": [
    {
     "name": "stdout",
     "output_type": "stream",
     "text": [
      "Epoch 1/25\n",
      "53/53 [==============================] - 6s 41ms/step - loss: 0.0094\n",
      "Epoch 2/25\n",
      "53/53 [==============================] - 2s 37ms/step - loss: 0.0031\n",
      "Epoch 3/25\n",
      "53/53 [==============================] - 2s 37ms/step - loss: 0.0029\n",
      "Epoch 4/25\n",
      "53/53 [==============================] - 2s 40ms/step - loss: 0.0025\n",
      "Epoch 5/25\n",
      "53/53 [==============================] - 2s 37ms/step - loss: 0.0027\n",
      "Epoch 6/25\n",
      "53/53 [==============================] - 2s 37ms/step - loss: 0.0024\n",
      "Epoch 7/25\n",
      "53/53 [==============================] - 2s 38ms/step - loss: 0.0022\n",
      "Epoch 8/25\n",
      "53/53 [==============================] - 2s 37ms/step - loss: 0.0022\n",
      "Epoch 9/25\n",
      "53/53 [==============================] - 2s 36ms/step - loss: 0.0023\n",
      "Epoch 10/25\n",
      "53/53 [==============================] - 2s 36ms/step - loss: 0.0020\n",
      "Epoch 11/25\n",
      "53/53 [==============================] - 2s 37ms/step - loss: 0.0018\n",
      "Epoch 12/25\n",
      "53/53 [==============================] - 2s 37ms/step - loss: 0.0017\n",
      "Epoch 13/25\n",
      "53/53 [==============================] - 2s 36ms/step - loss: 0.0015\n",
      "Epoch 14/25\n",
      "53/53 [==============================] - 2s 36ms/step - loss: 0.0015\n",
      "Epoch 15/25\n",
      "53/53 [==============================] - 2s 37ms/step - loss: 0.0015\n",
      "Epoch 16/25\n",
      "53/53 [==============================] - 2s 38ms/step - loss: 0.0016\n",
      "Epoch 17/25\n",
      "53/53 [==============================] - 2s 36ms/step - loss: 0.0017\n",
      "Epoch 18/25\n",
      "53/53 [==============================] - 2s 35ms/step - loss: 0.0017\n",
      "Epoch 19/25\n",
      "53/53 [==============================] - 2s 36ms/step - loss: 0.0014\n",
      "Epoch 20/25\n",
      "53/53 [==============================] - 2s 36ms/step - loss: 0.0016\n",
      "Epoch 21/25\n",
      "53/53 [==============================] - 2s 35ms/step - loss: 0.0014\n",
      "Epoch 22/25\n",
      "53/53 [==============================] - 2s 35ms/step - loss: 0.0014\n",
      "Epoch 23/25\n",
      "53/53 [==============================] - 2s 36ms/step - loss: 0.0014\n",
      "Epoch 24/25\n",
      "53/53 [==============================] - 2s 37ms/step - loss: 0.0014\n",
      "Epoch 25/25\n",
      "53/53 [==============================] - 2s 36ms/step - loss: 0.0014\n"
     ]
    },
    {
     "data": {
      "text/plain": [
       "<keras.callbacks.History at 0x23460549370>"
      ]
     },
     "execution_count": 18,
     "metadata": {},
     "output_type": "execute_result"
    }
   ],
   "source": [
    "#create the neural network with LSTM\n",
    "#LSTM is a type of RNN (Recurrent Neural Network) that is used to predict time series data\n",
    "\n",
    "model = Sequential()\n",
    "\n",
    "#add layers to the model\n",
    "model.add(LSTM(units=50, return_sequences=True, input_shape=(x_train.shape[1], 1)))\n",
    "model.add(Dropout(0.2)) #prevent overfitting\n",
    "model.add(LSTM(units=50, return_sequences=True))\n",
    "model.add(Dropout(0.2))\n",
    "model.add(LSTM(units=50))\n",
    "model.add(Dropout(0.2))\n",
    "model.add(Dense(units=1)) #price prediction layer\n",
    "\n",
    "model.compile(optimizer='adam', loss='mean_squared_error') #compile the model using adam optimizer\n",
    "model.fit(x_train, y_train, epochs=25, batch_size=32)"
   ]
  },
  {
   "cell_type": "code",
   "execution_count": 20,
   "id": "5248d429",
   "metadata": {},
   "outputs": [],
   "source": [
    "#test the model\n",
    "test_start = dt.datetime(2020,1,1) \n",
    "test_end = dt.datetime.now() #end date is today\n",
    "\n",
    "test_data = web.DataReader(f'{crypto_currency}-{against_currency}', 'yahoo', test_start, test_end)\n",
    "actual_prices = test_data['Close'].values"
   ]
  },
  {
   "cell_type": "code",
   "execution_count": 22,
   "id": "7b950d0d",
   "metadata": {},
   "outputs": [],
   "source": [
    "#combine test dataset with previous dataset\n",
    "total_dataset = pd.concat((data['Close'], test_data['Close']), axis=0)\n",
    "\n",
    "model_inputs = total_dataset[len(total_dataset)-len(test_data) - prediction_days:].values \n",
    "model_inputs = model_inputs.reshape(-1,1)\n",
    "model_inputs = scaler.fit_transform(model_inputs) #need to scale model again to be between 0 - 1"
   ]
  },
  {
   "cell_type": "code",
   "execution_count": 23,
   "id": "6de54faf",
   "metadata": {},
   "outputs": [
    {
     "name": "stdout",
     "output_type": "stream",
     "text": [
      "30/30 [==============================] - 1s 13ms/step\n"
     ]
    }
   ],
   "source": [
    "x_test = [] #create x_test\n",
    "\n",
    "for x in range(prediction_days, len(model_inputs)): #append the last 60 days of the model_inputs to x_test\n",
    "    x_test.append(model_inputs[x-prediction_days:x, 0])\n",
    "    \n",
    "x_test = np.array(x_test)\n",
    "x_test = np.reshape(x_test, (x_test.shape[0], x_test.shape[1], 1))\n",
    "\n",
    "prediction_prices = model.predict(x_test)\n",
    "prediction_prices = scaler.inverse_transform(prediction_prices) #get actual values of prices"
   ]
  },
  {
   "cell_type": "code",
   "execution_count": 27,
   "id": "f986cd4c",
   "metadata": {},
   "outputs": [
    {
     "data": {
      "image/png": "[encoded data removed]",
      "text/plain": [
       "<Figure size 432x288 with 1 Axes>"
      ]
     },
     "metadata": {
      "needs_background": "light"
     },
     "output_type": "display_data"
    }
   ],
   "source": [
    "#plot the test predictions\n",
    "plt.plot(actual_prices, color='blue', label='Actual Prices')\n",
    "plt.plot(prediction_prices, color='green', label='Predicted Prices')\n",
    "plt.title(f'{crypto_currency} price prediction')\n",
    "plt.xlabel('Time in Days')\n",
    "plt.ylabel('Price in USD')\n",
    "plt.legend(loc='upper left')\n",
    "plt.show()"
   ]
  }
 ],
 "metadata": {
  "kernelspec": {
   "display_name": "Python 3.10.8 64-bit",
   "language": "python",
   "name": "python3"
  },
  "language_info": {
   "codemirror_mode": {
    "name": "ipython",
    "version": 3
   },
   "file_extension": ".py",
   "mimetype": "text/x-python",
   "name": "python",
   "nbconvert_exporter": "python",
   "pygments_lexer": "ipython3",
   "version": "3.10.8"
  },
  "vscode": {
   "interpreter": {
    "hash": "d22fc3ea14eaa05d16114e9e7a18ee4c4426c40dd8d7741740ed7a46e0299b43"
   }
  }
 },
 "nbformat": 4,
 "nbformat_minor": 5
}
