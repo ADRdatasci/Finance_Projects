{
 "cells": [
  {
   "cell_type": "code",
   "execution_count": 3,
   "id": "2cf29e60",
   "metadata": {},
   "outputs": [],
   "source": [
    "import pandas_datareader as web\n",
    "import datetime as dt"
   ]
  },
  {
   "cell_type": "code",
   "execution_count": 5,
   "id": "42f31730",
   "metadata": {},
   "outputs": [],
   "source": [
    "start = dt.datetime(2020, 1, 1)\n",
    "end = dt.datetime.now()"
   ]
  },
  {
   "cell_type": "code",
   "execution_count": 8,
   "id": "9756c167",
   "metadata": {},
   "outputs": [],
   "source": [
    "data = web.DataReader(\"TSLA\", \"yahoo\", start, end)"
   ]
  },
  {
   "cell_type": "code",
   "execution_count": 9,
   "id": "617c116d",
   "metadata": {},
   "outputs": [],
   "source": [
    "data.to_csv(\"stock_data.csv\")"
   ]
  }
 ],
 "metadata": {
  "kernelspec": {
   "display_name": "Python 3.10.8 64-bit",
   "language": "python",
   "name": "python3"
  },
  "language_info": {
   "codemirror_mode": {
    "name": "ipython",
    "version": 3
   },
   "file_extension": ".py",
   "mimetype": "text/x-python",
   "name": "python",
   "nbconvert_exporter": "python",
   "pygments_lexer": "ipython3",
   "version": "3.10.8"
  },
  "vscode": {
   "interpreter": {
    "hash": "d22fc3ea14eaa05d16114e9e7a18ee4c4426c40dd8d7741740ed7a46e0299b43"
   }
  }
 },
 "nbformat": 4,
 "nbformat_minor": 5
}
